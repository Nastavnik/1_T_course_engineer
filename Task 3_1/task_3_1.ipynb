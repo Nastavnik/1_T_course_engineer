{
 "cells": [
  {
   "cell_type": "markdown",
   "metadata": {},
   "source": [
    "1. Написать программу, которая удаляет из списка все элементы, стоящие на четных позициях."
   ]
  },
  {
   "cell_type": "code",
   "execution_count": 49,
   "metadata": {},
   "outputs": [
    {
     "name": "stdout",
     "output_type": "stream",
     "text": [
      "четное число - 0\n",
      "четное число - 2\n",
      "четное число - 4\n",
      "четное число - 6\n",
      "четное число - 8\n",
      "четное число - 10\n"
     ]
    }
   ],
   "source": [
    "# создаем список от 0 до 10\n",
    "list = [0,1,2,3,4,5,6,7,8,9,10]\n",
    "# цикл для списка\n",
    "for i in list:\n",
    "    if i % 2 ==0: # если останок от деления = 0\n",
    "       print('четное число -', i)"
   ]
  },
  {
   "cell_type": "code",
   "execution_count": 48,
   "metadata": {},
   "outputs": [
    {
     "name": "stdout",
     "output_type": "stream",
     "text": [
      "[1, 3, 5, 7, 9]\n"
     ]
    }
   ],
   "source": [
    "\n",
    "# создаем список от 0 до 10\n",
    "list = [0,1,2,3,4,5,6,7,8,9,10]\n",
    "# цикл для списка\n",
    "for i in list:\n",
    "    if i % 2 ==0: # если останок от деления = 0\n",
    "       #print('четное число -', i)\n",
    "       list.remove(i) # метод remove удаляет\n",
    "print(list)"
   ]
  },
  {
   "cell_type": "markdown",
   "metadata": {},
   "source": [
    "2. Написать программу, которая считывает список слов и находит слова, содержащие более трех гласных букв."
   ]
  },
  {
   "cell_type": "code",
   "execution_count": 47,
   "metadata": {},
   "outputs": [
    {
     "name": "stdout",
     "output_type": "stream",
     "text": [
      "В слове  валькирия  более трех гласных букв\n"
     ]
    }
   ],
   "source": [
    "string = input('Введите список слов через \";\": ').lower()\n",
    "words = string.split('; ')\n",
    "def vowels(i, vowels=\"ауоыиэяюёе\"):\n",
    "    return sum(1 for j in i if j in vowels)\n",
    "for i in words:\n",
    "    if vowels(i) > 3:\n",
    "        print('В слове ', i, 'более трех гласных букв')"
   ]
  },
  {
   "cell_type": "markdown",
   "metadata": {},
   "source": [
    "3. Написать программу, которая находит второй по величине элемент в списке."
   ]
  },
  {
   "cell_type": "code",
   "execution_count": 46,
   "metadata": {},
   "outputs": [
    {
     "name": "stdout",
     "output_type": "stream",
     "text": [
      "Ввведенные числа:  20, 30, 40, 25, 10 второй число 30\n"
     ]
    }
   ],
   "source": [
    "ints = input().lower()\n",
    "ints_split = ints.split(', ')\n",
    "for i in ints_split:\n",
    "    inst_sort = ints_split.sort()\n",
    "print(\"Ввведенные числа: \",ints , \"второй число\", ints_split[-2])"
   ]
  },
  {
   "cell_type": "markdown",
   "metadata": {},
   "source": [
    "4. Написать программу, которая удаляет из списка все дубликаты."
   ]
  },
  {
   "cell_type": "code",
   "execution_count": 32,
   "metadata": {},
   "outputs": [
    {
     "name": "stdout",
     "output_type": "stream",
     "text": [
      "Cписок после удаления дубликатов = [1]\n",
      "Cписок после удаления дубликатов = [1, 2]\n",
      "Cписок после удаления дубликатов = [1, 2, 3]\n",
      "Cписок после удаления дубликатов = [1, 2, 3, 4]\n"
     ]
    }
   ],
   "source": [
    "ints = [1, 2, 3, 4, 3, 2] \n",
    "temp = [] # временный список\n",
    "for x in ints: # создаем цикл\n",
    "    if x not in temp: # если нет во временной таблице добавляем\n",
    "        temp.append(x) # append добавляем\n",
    "        ints = temp # перезаписываем\n",
    "        print(f'Cписок после удаления дубликатов = {temp}')"
   ]
  },
  {
   "cell_type": "markdown",
   "metadata": {},
   "source": [
    "5. Написать программу, которая считывает данные из CSV-файла и создает словарь, где ключами являются значения в столбце «Name», а значениями — соответствующие им словари с информацией о поле, возрасте и зарплате."
   ]
  },
  {
   "cell_type": "code",
   "execution_count": 25,
   "metadata": {},
   "outputs": [
    {
     "name": "stdout",
     "output_type": "stream",
     "text": [
      "{'student_id': [' name', ' city'], '1': [' Иван Сидоров', ' Юрга'], '2': [' Сергей Иванов', ' Иваново'], '3': [' Петр Чуков', ' Москва']}\n"
     ]
    }
   ],
   "source": [
    "import csv # испортируем библиотеку для работы с csv\n",
    "# добавил csv \n",
    "read_csv = csv.reader(open('test.csv')) # считываем csv\n",
    "dict_stud = {} # создаем словарь\n",
    "for i in read_csv: #\n",
    "    key = i[0] # ключ\n",
    "    if key in dict_stud:\n",
    "        # Проверка на дубликат ключа\n",
    "        pass\n",
    "    dict_stud[key] = i[1:]\n",
    "print(dict_stud)"
   ]
  },
  {
   "cell_type": "markdown",
   "metadata": {},
   "source": [
    "6. Написать программу, которая запрашивает у пользователя строку и выводит на экран все ее подстроки длиной не менее трех символов."
   ]
  },
  {
   "cell_type": "code",
   "execution_count": 22,
   "metadata": {},
   "outputs": [
    {
     "name": "stdout",
     "output_type": "stream",
     "text": [
      "['Погодка', 'сегодня', 'отпад']\n"
     ]
    }
   ],
   "source": [
    "text = input('Введите текст: ')\n",
    "print([word for word in text.split(' ') if len(word) >= 3])"
   ]
  }
 ],
 "metadata": {
  "kernelspec": {
   "display_name": "base",
   "language": "python",
   "name": "python3"
  },
  "language_info": {
   "codemirror_mode": {
    "name": "ipython",
    "version": 3
   },
   "file_extension": ".py",
   "mimetype": "text/x-python",
   "name": "python",
   "nbconvert_exporter": "python",
   "pygments_lexer": "ipython3",
   "version": "3.11.4"
  },
  "orig_nbformat": 4
 },
 "nbformat": 4,
 "nbformat_minor": 2
}
