{
 "cells": [
  {
   "cell_type": "markdown",
   "metadata": {},
   "source": [
    "1. Написать программу, которая удаляет из списка все элементы, стоящие на четных позициях."
   ]
  },
  {
   "cell_type": "code",
   "execution_count": 17,
   "metadata": {},
   "outputs": [
    {
     "name": "stdout",
     "output_type": "stream",
     "text": [
      "четное число - 2\n",
      "четное число - 4\n",
      "четное число - 6\n",
      "четное число - 8\n",
      "четное число - 10\n"
     ]
    }
   ],
   "source": [
    "# создаем список от 1 до 10\n",
    "list = [1,2,3,4,5,6,7,8,9,10]\n",
    "# цикл для списка\n",
    "for i in list:\n",
    "    if i % 2 ==0: # если останок от деления = 0\n",
    "       print('четное число -', i)"
   ]
  },
  {
   "cell_type": "code",
   "execution_count": 2,
   "metadata": {},
   "outputs": [
    {
     "name": "stdout",
     "output_type": "stream",
     "text": [
      "[1, 3, 5, 7, 9]\n"
     ]
    }
   ],
   "source": [
    "\n",
    "# создаем список от 1 до 10\n",
    "list = [1,2,3,4,5,6,7,8,9,10]\n",
    "# цикл для списка\n",
    "for i in list:\n",
    "    if i % 2 ==0: # если останок от деления = 0\n",
    "       #print('четное число -', i)\n",
    "       list.remove(i) # метод remove удаляет\n",
    "print(list)"
   ]
  },
  {
   "cell_type": "markdown",
   "metadata": {},
   "source": [
    "2. Написать программу, которая считывает список слов и находит слова, содержащие более трех гласных букв."
   ]
  },
  {
   "cell_type": "code",
   "execution_count": 9,
   "metadata": {},
   "outputs": [],
   "source": [
    "#Метод upper() возращает копию строки, в которой все буквы сконвертированы к большому регистру (заглавные буквы).\n",
    "string = input('Введите список слов чеерез \",\": ').upper()\n",
    "words = string.split(', ') #  метода split делит строки на список\n",
    "def count_v(i, vowels=\"ауоыиэяюёе\"): # выведим гласные\n",
    "    return sum(1 for char in word if char in vowels)\n",
    "for i in words:\n",
    "    if count_v(i) > 3:\n",
    "        print(i)"
   ]
  },
  {
   "cell_type": "code",
   "execution_count": 16,
   "metadata": {},
   "outputs": [
    {
     "name": "stdout",
     "output_type": "stream",
     "text": [
      "В слове  валькирия более трех гласных букв\n",
      "В слове  персифона более трех гласных букв\n"
     ]
    }
   ],
   "source": [
    "string = input('Введите список слов через \";\": ').lower()\n",
    "words = string.split('; ')\n",
    "def vowels(word, vowels=\"ауоыиэяюёе\"):\n",
    "    return sum(1 for char in word if char in vowels)\n",
    "for word in words:\n",
    "    if vowels(word) > 3:\n",
    "        print('В слове ', word, 'более трех гласных букв')"
   ]
  },
  {
   "cell_type": "markdown",
   "metadata": {},
   "source": [
    "3. Написать программу, которая находит второй по величине элемент в списке."
   ]
  },
  {
   "cell_type": "code",
   "execution_count": null,
   "metadata": {},
   "outputs": [],
   "source": []
  },
  {
   "cell_type": "markdown",
   "metadata": {},
   "source": [
    "4. Написать программу, которая удаляет из списка все дубликаты."
   ]
  },
  {
   "cell_type": "code",
   "execution_count": null,
   "metadata": {},
   "outputs": [],
   "source": []
  },
  {
   "cell_type": "markdown",
   "metadata": {},
   "source": [
    "5. Написать программу, которая считывает данные из CSV-файла и создает словарь, где ключами являются значения в столбце «Name», а значениями — соответствующие им словари с информацией о поле, возрасте и зарплате."
   ]
  },
  {
   "cell_type": "code",
   "execution_count": null,
   "metadata": {},
   "outputs": [],
   "source": []
  },
  {
   "cell_type": "markdown",
   "metadata": {},
   "source": [
    "6. Написать программу, которая запрашивает у пользователя строку и выводит на экран все ее подстроки длиной не менее трех символов."
   ]
  },
  {
   "cell_type": "code",
   "execution_count": null,
   "metadata": {},
   "outputs": [],
   "source": []
  }
 ],
 "metadata": {
  "kernelspec": {
   "display_name": "base",
   "language": "python",
   "name": "python3"
  },
  "language_info": {
   "codemirror_mode": {
    "name": "ipython",
    "version": 3
   },
   "file_extension": ".py",
   "mimetype": "text/x-python",
   "name": "python",
   "nbconvert_exporter": "python",
   "pygments_lexer": "ipython3",
   "version": "3.11.4"
  },
  "orig_nbformat": 4
 },
 "nbformat": 4,
 "nbformat_minor": 2
}
